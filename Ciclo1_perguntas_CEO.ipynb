{
 "cells": [
  {
   "cell_type": "code",
   "execution_count": 1,
   "id": "f1176115",
   "metadata": {},
   "outputs": [],
   "source": [
    "# Importando as livrarias\n",
    "import numpy as np\n",
    "import pandas as pd\n",
    "from matplotlib import pyplot as plt\n",
    "\n"
   ]
  },
  {
   "cell_type": "code",
   "execution_count": 2,
   "id": "017b7ea4",
   "metadata": {},
   "outputs": [],
   "source": [
    "# Supress Scientific Notation\n",
    "np.set_printoptions(suppress=True)\n",
    "pd.set_option('display.float_format', '{:.2f}'.format)\n",
    "\n"
   ]
  },
  {
   "cell_type": "code",
   "execution_count": 3,
   "id": "6a0d00d1",
   "metadata": {},
   "outputs": [],
   "source": [
    "# acessando a memória\n",
    "data = pd.read_csv( 'datasets/kc_house_data.csv' )\n"
   ]
  },
  {
   "cell_type": "markdown",
   "id": "9b87c392",
   "metadata": {},
   "source": [
    "  ## 1. Quantas casas estão disponíveis para compra?\n"
   ]
  },
  {
   "cell_type": "code",
   "execution_count": 19,
   "id": "26a550e3",
   "metadata": {},
   "outputs": [
    {
     "name": "stdout",
     "output_type": "stream",
     "text": [
      "Essas são as casas disponíveis:21436 \n"
     ]
    }
   ],
   "source": [
    "# estratégia: selecionar as colunas ID, que representa a identificação unica do imóvel\n",
    "num_houses_unique = data['id'].nunique()\n",
    "# Resultado\n",
    "print( 'Essas são as casas disponíveis:{} '.format( num_houses_unique ) )"
   ]
  },
  {
   "cell_type": "markdown",
   "id": "71476f1a",
   "metadata": {},
   "source": [
    "## 2. Quantos atributos as casas possuem?"
   ]
  },
  {
   "cell_type": "code",
   "execution_count": 20,
   "id": "70d35547",
   "metadata": {},
   "outputs": [
    {
     "name": "stdout",
     "output_type": "stream",
     "text": [
      "Total de atributos 19 \n"
     ]
    }
   ],
   "source": [
    "#estratégia: selecionar o número de colunas, porém o ID e date não são atributos\n",
    "num_attributes = len( data.columns ) - 2\n",
    "\n",
    "print( 'Total de atributos {} '. format( num_attributes ) )\n",
    "\n",
    "\n"
   ]
  },
  {
   "cell_type": "markdown",
   "id": "4a1cd4e4",
   "metadata": {},
   "source": [
    "## 3. Quais são os atributos das casas?"
   ]
  },
  {
   "cell_type": "code",
   "execution_count": 21,
   "id": "7072a480",
   "metadata": {},
   "outputs": [
    {
     "name": "stdout",
     "output_type": "stream",
     "text": [
      "['price', 'bedrooms', 'bathrooms', 'sqft_living', 'sqft_lot', 'floors', 'waterfront', 'view', 'condition', 'grade', 'sqft_above', 'sqft_basement', 'yr_built', 'yr_renovated', 'zipcode', 'lat', 'long', 'sqft_living15', 'sqft_lot15']\n"
     ]
    }
   ],
   "source": [
    "#estratégia: selecionar os nomes do total das colunas, excluindo o id e date.\n",
    "df = data.drop( ['id', 'date'], axis=1 )\n",
    "print( df.columns.tolist() )"
   ]
  },
  {
   "cell_type": "markdown",
   "id": "93a481b8",
   "metadata": {},
   "source": [
    "## 4. Qual a casa mais cara ( casa com o maior valor de venda )?"
   ]
  },
  {
   "cell_type": "code",
   "execution_count": 22,
   "id": "b6802b49",
   "metadata": {},
   "outputs": [
    {
     "name": "stdout",
     "output_type": "stream",
     "text": [
      "A casa de maior valor é : 7129300520\n"
     ]
    }
   ],
   "source": [
    "#estretégia: ordernar as colunas do maior para o menor, de maneira decrescente e selecionar o primeiro iD\n",
    "house_expensive = data[['id', 'price']].sort_values( 'price', ascending=False ). loc[0,'id']\n",
    "print( 'A casa de maior valor é : {}'.format( house_expensive ) )\n"
   ]
  },
  {
   "cell_type": "markdown",
   "id": "bf6a4278",
   "metadata": {},
   "source": [
    "## 5. Qual a casa com o maior número de quartos?\n"
   ]
  },
  {
   "cell_type": "code",
   "execution_count": 23,
   "id": "33bff5f1",
   "metadata": {},
   "outputs": [
    {
     "name": "stdout",
     "output_type": "stream",
     "text": [
      "A casa com o maior número de quartos : 2402100895\n"
     ]
    }
   ],
   "source": [
    "#estratégia: selecionar a coluna de quarto e ordernala em forma decrescente #selecionar o primeiro id\n",
    "df = data[['id', 'bedrooms']].sort_values( 'bedrooms', ascending=False )\n",
    "print( 'A casa com o maior número de quartos : {}'.format( df.iloc[0, 0] ) ) \n"
   ]
  },
  {
   "cell_type": "markdown",
   "id": "7eba65c3",
   "metadata": {},
   "source": [
    " ## 6. Qual a soma total de quartos do conjunto de dados?"
   ]
  },
  {
   "cell_type": "code",
   "execution_count": 24,
   "id": "086e571d",
   "metadata": {},
   "outputs": [
    {
     "name": "stdout",
     "output_type": "stream",
     "text": [
      "Soma total: 72854\n"
     ]
    }
   ],
   "source": [
    "#estratégia: somar todos os elementos da coluna quarto\n",
    "print( 'Soma total: {}'.format( data['bedrooms'].sum() ) )"
   ]
  },
  {
   "cell_type": "markdown",
   "id": "bf92e0a6",
   "metadata": {},
   "source": [
    " ## 7. Quantas casas possuem 2 banheiros?"
   ]
  },
  {
   "cell_type": "code",
   "execution_count": 25,
   "id": "e028128a",
   "metadata": {},
   "outputs": [
    {
     "name": "stdout",
     "output_type": "stream",
     "text": [
      "Total de casas com dois banheiros são 1930\n"
     ]
    }
   ],
   "source": [
    "#seleiocnar a coluna banheiro e vai filtrar as linhas que contém dois banheiros\n",
    "df = data.loc[data['bathrooms'] == 2, :]\n",
    "num_houses = len( df )\n",
    "print( 'Total de casas com dois banheiros são {}'.format( num_houses ) )"
   ]
  },
  {
   "cell_type": "markdown",
   "id": "31b14f63",
   "metadata": {},
   "source": [
    "##  8. Qual o preço médio de todas as casas no conjunto de dados?"
   ]
  },
  {
   "cell_type": "code",
   "execution_count": 26,
   "id": "a5071131",
   "metadata": {},
   "outputs": [
    {
     "name": "stdout",
     "output_type": "stream",
     "text": [
      "Average Price: $540088.14\n"
     ]
    }
   ],
   "source": [
    "# calcular a soma total dos preços da casas\n",
    "#calcular o total de casas disponíveis\n",
    "#realizar o calculo da média e mostrar na tela\n",
    "avg_price = np.round( data['price'].mean(), 2 )\n",
    "print( 'Average Price: ${}'.format( avg_price ) )"
   ]
  },
  {
   "cell_type": "markdown",
   "id": "4030a960",
   "metadata": {},
   "source": [
    "## 9. Qual o preço médio de casas com 2 banheiros?"
   ]
  },
  {
   "cell_type": "code",
   "execution_count": 27,
   "id": "5b12d1ce",
   "metadata": {},
   "outputs": [
    {
     "name": "stdout",
     "output_type": "stream",
     "text": [
      "Total de casas com dois banheiros são 1930\n",
      "Preço média das casas com dois banheiros: $457889.72\n"
     ]
    }
   ],
   "source": [
    "#seleiconar o total de casas com dois banheiros e calcular os preço média delas\n",
    "df = data.loc[data['bathrooms'] == 2, :]\n",
    "num_houses = len( df )\n",
    "print( 'Total de casas com dois banheiros são {}'.format( num_houses ) )\n",
    "#média das casas com dois banheiros\n",
    "avg_price = np.round( data.loc[data['bathrooms'] == 2, 'price'].mean(), 2 )\n",
    "print( 'Preço média das casas com dois banheiros: ${}'.format( avg_price ) )"
   ]
  },
  {
   "cell_type": "markdown",
   "id": "bf641b04",
   "metadata": {},
   "source": [
    "## 10. Qual o preço mínimo entre as casas com 3 quartos?\n"
   ]
  },
  {
   "cell_type": "code",
   "execution_count": 28,
   "id": "66e051ae",
   "metadata": {},
   "outputs": [
    {
     "name": "stdout",
     "output_type": "stream",
     "text": [
      "Total de casas com 3 quartos são: 9824\n",
      "Mínimo preço: $82000.0\n"
     ]
    }
   ],
   "source": [
    "#estratégia: selecionar a coluna quartos e realizar o filtro das linhas com 3 quartos\n",
    "df = data.loc[data['bedrooms'] == 3, :]\n",
    "num_houses = len( df )\n",
    "print( 'Total de casas com 3 quartos são: {}'.format( num_houses ) )\n",
    "#calcular o menor preço da coluna price que possui 3 quartos\n",
    "min_price = np.round( data.loc[data['bedrooms'] == 3, 'price'].min(), 2 )\n",
    "print( 'Mínimo preço: ${}'.format( min_price ) )\n"
   ]
  },
  {
   "cell_type": "markdown",
   "id": "d070befa",
   "metadata": {},
   "source": [
    "## 11. Quantas casas possuem mais de 300 metros quadrados na sala de estar?"
   ]
  },
  {
   "cell_type": "code",
   "execution_count": 29,
   "id": "d5e3fd95",
   "metadata": {},
   "outputs": [
    {
     "name": "stdout",
     "output_type": "stream",
     "text": [
      "Total de casas com 300 metros quadrados são: 21612\n"
     ]
    }
   ],
   "source": [
    "#seleiocnar a coluna( sqft_living)  e filtar as linhas que pussuem 300 metros quadrados\n",
    "df = data.loc[data['sqft_living'] >300, :]\n",
    "num_houses = len( df )\n",
    "print( 'Total de casas com 300 metros quadrados são: {}'.format( num_houses ) )"
   ]
  },
  {
   "cell_type": "markdown",
   "id": "7c090442",
   "metadata": {},
   "source": [
    "## 12. Quantas casas tem mais de 2 andares?"
   ]
  },
  {
   "cell_type": "code",
   "execution_count": 30,
   "id": "785d151b",
   "metadata": {},
   "outputs": [
    {
     "name": "stdout",
     "output_type": "stream",
     "text": [
      "Total de casas com mais de 2 andares: 782\n"
     ]
    }
   ],
   "source": [
    "#seleiocnar a coluna 'floors'  e filtar as linhas que pussuem 2 andares\n",
    "df = data.loc[data['floors'] > 2, :]\n",
    "num_houses = len( df )\n",
    "print( 'Total de casas com mais de 2 andares: {}'.format( num_houses ) )"
   ]
  },
  {
   "cell_type": "markdown",
   "id": "f73a98ce",
   "metadata": {},
   "source": [
    "## 13. Quantas casas tem vista para o mar?"
   ]
  },
  {
   "cell_type": "code",
   "execution_count": 31,
   "id": "c9f264e2",
   "metadata": {},
   "outputs": [
    {
     "name": "stdout",
     "output_type": "stream",
     "text": [
      "Total de casas com vista para o mar 163 \n"
     ]
    }
   ],
   "source": [
    "#seleiocnar a coluna 'waterfront' e mostrar na tela o total de casas com vista para o mar\n",
    "houses = data.loc[data['waterfront'] == 1, 'id'].shape[0]\n",
    "print( 'Total de casas com vista para o mar {} '.format( houses ) )\n"
   ]
  },
  {
   "cell_type": "markdown",
   "id": "691c8c95",
   "metadata": {},
   "source": [
    "## 14. Das casas com vista para o mar, quantas tem 3 quartos?"
   ]
  },
  {
   "cell_type": "code",
   "execution_count": 32,
   "id": "8c540eb9",
   "metadata": {},
   "outputs": [
    {
     "name": "stdout",
     "output_type": "stream",
     "text": [
      "Total de casas com vista para o mar que possuem 3 quartos: 64 \n"
     ]
    }
   ],
   "source": [
    "#estratégia: selecionar as casas com a coluna 'waterfront'=1 e realizar a contagem das mesmas\n",
    "houses = data.loc[(data['waterfront'] == 1) & (data['bedrooms'] == 3), 'id' ].shape[0]\n",
    "print( 'Total de casas com vista para o mar que possuem 3 quartos: {} '.format( houses ) )"
   ]
  },
  {
   "cell_type": "markdown",
   "id": "0c617eee",
   "metadata": {},
   "source": [
    "## 15. Das casas com mais de 300 metros quadrados de sala de estar, quantas tem mais de 2 banheiros?"
   ]
  },
  {
   "cell_type": "code",
   "execution_count": 33,
   "id": "cd55c180",
   "metadata": {},
   "outputs": [
    {
     "name": "stdout",
     "output_type": "stream",
     "text": [
      "Total: 11242 \n"
     ]
    }
   ],
   "source": [
    "#estratégia: selecionar a coluna 'sqft_living' e bathrooms e filtrar, respectivamente as linhas: > 300 e >2\n",
    "houses = data.loc[(data['sqft_living'] > 300) & (data['bathrooms'] > 2), 'id' ].shape[0]\n",
    "print( 'Total: {} '.format( houses ) )"
   ]
  },
  {
   "cell_type": "code",
   "execution_count": null,
   "id": "6dc43e65",
   "metadata": {},
   "outputs": [],
   "source": []
  },
  {
   "cell_type": "code",
   "execution_count": null,
   "id": "8ec9a320",
   "metadata": {},
   "outputs": [],
   "source": []
  },
  {
   "cell_type": "code",
   "execution_count": null,
   "id": "b6cbdde9",
   "metadata": {},
   "outputs": [],
   "source": []
  }
 ],
 "metadata": {
  "kernelspec": {
   "display_name": "Python 3 (ipykernel)",
   "language": "python",
   "name": "python3"
  },
  "language_info": {
   "codemirror_mode": {
    "name": "ipython",
    "version": 3
   },
   "file_extension": ".py",
   "mimetype": "text/x-python",
   "name": "python",
   "nbconvert_exporter": "python",
   "pygments_lexer": "ipython3",
   "version": "3.9.12"
  }
 },
 "nbformat": 4,
 "nbformat_minor": 5
}
